{
 "cells": [
  {
   "cell_type": "code",
   "execution_count": 9,
   "metadata": {},
   "outputs": [
    {
     "name": "stdout",
     "output_type": "stream",
     "text": [
      "Estadísticas Básicas\n",
      "            price\n",
      "count    9.000000\n",
      "mean   400.656667\n",
      "std    399.105562\n",
      "min     24.990000\n",
      "25%     93.990000\n",
      "50%    118.990000\n",
      "75%    899.990000\n",
      "max    899.990000\n"
     ]
    },
    {
     "data": {
      "image/png": "[encoded data removed]",
      "text/plain": [
       "<Figure size 640x480 with 1 Axes>"
      ]
     },
     "metadata": {},
     "output_type": "display_data"
    },
    {
     "name": "stdout",
     "output_type": "stream",
     "text": [
      "Productos más caros: \n",
      "            title             description   price\n",
      "6          Iphone                   White  899.99\n",
      "7          Iphone                  Silver  899.99\n",
      "8          Iphone                   Black  899.99\n",
      "5     Ubuntu Edge          Sapphire glass  499.99\n",
      "4     Sony Xperia         GPS, waterproof  118.99\n",
      "3         Nokia X  Andoid, Jolla dualboot  109.99\n",
      "2  Samsung Galaxy      5 mpx. Android 5.0   93.99\n",
      "1      LG Optimus             3.2\" screen   57.99\n",
      "0       Nokia 123           7 day battery   24.99\n"
     ]
    }
   ],
   "source": [
    "# Importar las bibliotecas necesarias\n",
    "import pandas as pd\n",
    "import matplotlib.pyplot as plt\n",
    "\n",
    "# Cargar los datos\n",
    "data_path = \"C:\\\\Users\\\\carli\\\\Desktop\\\\DeberPython\\\\ProyectoPython\\\\data\\\\processed\\\\cleaned_products.csv\"  # Define la ruta del archivo a leer\n",
    "df = pd.read_csv(data_path)  # Cargamos los datos de csv en DataFrame\n",
    "\n",
    "# Análisis y visualización\n",
    "print(\"Estadísticas Básicas\")\n",
    "print(df.describe())  # Mostrar las estadísticas básicas\n",
    "\n",
    "# Histograma de precios\n",
    "plt.hist(df[\"price\"], bins=30, edgecolor=\"black\")  # Histograma de la columna price con 20 barras y bordes negros\n",
    "plt.title(\"Distribución de precios\")  # Título del histograma\n",
    "plt.xlabel(\"Precio\")  # Etiqueta eje x\n",
    "plt.ylabel(\"Frecuencia\")  # Etiqueta eje y\n",
    "plt.show()  # Mostrar el histograma\n",
    "\n",
    "# Productos más caros\n",
    "print(\"Productos más caros: \")\n",
    "highestPrices = df.nlargest(10, \"price\")\n",
    "print(highestPrices)\n"
   ]
  },
  {
   "cell_type": "code",
   "execution_count": null,
   "metadata": {},
   "outputs": [],
   "source": []
  },
  {
   "cell_type": "markdown",
   "metadata": {},
   "source": []
  },
  {
   "cell_type": "markdown",
   "metadata": {},
   "source": []
  }
 ],
 "metadata": {
  "kernelspec": {
   "display_name": "Python 3",
   "language": "python",
   "name": "python3"
  },
  "language_info": {
   "codemirror_mode": {
    "name": "ipython",
    "version": 3
   },
   "file_extension": ".py",
   "mimetype": "text/x-python",
   "name": "python",
   "nbconvert_exporter": "python",
   "pygments_lexer": "ipython3",
   "version": "3.12.3"
  }
 },
 "nbformat": 4,
 "nbformat_minor": 2
}
